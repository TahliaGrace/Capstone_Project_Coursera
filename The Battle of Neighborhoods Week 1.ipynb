{
    "nbformat_minor": 1, 
    "cells": [
        {
            "source": "# The Battle of the Neighbourhoods Capstone Project", 
            "cell_type": "markdown", 
            "metadata": {
                "collapsed": true
            }
        }, 
        {
            "source": "## Introduction / Business Problem", 
            "cell_type": "markdown", 
            "metadata": {}
        }, 
        {
            "source": "### Introduction", 
            "cell_type": "markdown", 
            "metadata": {}
        }, 
        {
            "source": "Retail has always been shaped by shrewd merchants with a proclivity for taking risks and choosing the right products at the right time. This has always been considered more of an art than a science. However, with the tools to leverage consumer data, \u201cWinning decisions are increasingly driven by analytics more than instinct, experience, or merchant \u2018art\u2019. By leveraging smarter tools\u2014those beyond backward-looking, \u201chind sighting\u201d analysis\u2014retailers can increasingly make forward-looking predictions that are quickly becoming the \u201ctable stakes\u201d necessary to keep up\u201d, says [Mckinsey](https://www.mckinsey.com/industries/retail/our-insights/how-analytics-and-digital-will-drive-next-generation-retail-merchandising).\n\n\nIn a rapidly evolving world where busy bustling cities are booming with opportunity, when opening a new business, it is of paramount importance to do your homework in order to decide if the location for consideration is going to prove a profitable exercise.  As a data scientist, it is my job to assist my clients in their decision-making process. ", 
            "cell_type": "markdown", 
            "metadata": {}
        }, 
        {
            "source": "### Business Problem", 
            "cell_type": "markdown", 
            "metadata": {}
        }, 
        {
            "source": "Lucy Finnigan has approached me with an idea to open a coffee shop / book store and has provided me with two possible locations of interest. \n\nAlthough coffee has proven to be a favourite beverage of early morning go getters world-wide, there is massive competition where franchise brands are concerned. Lucy is not buying into a franchise, so location is of utmost importance to insure she becomes the forefront of her game in her new business venture to avoid her business plan folding before she\u2019s even established her brand. \n\nLucy has her heart set on Alberta, Canada. It is now my task to leverage data from various sources in order to expose a gap in the market. \n", 
            "cell_type": "markdown", 
            "metadata": {}
        }, 
        {
            "source": "## Data Section", 
            "cell_type": "markdown", 
            "metadata": {}
        }, 
        {
            "source": "[Geonames](https://www.geonames.org/postal-codes/CA/AB/alberta.html) will be used to obtain necessary data for the neighbourhoods, postal codes and geographic coordinates in Alberta. \n\n[Foursquare](https://foursquare.com) will be used to leverage and explore venue data to target recommended locations for the prospective business venture. \n\nBy merging the data from Geonames and Foursquare we will be able to conclude where starting a non-franchised coffee shop / book store would prove most profitable. ", 
            "cell_type": "markdown", 
            "metadata": {}
        }, 
        {
            "source": "### Libraries required for to handle the data", 
            "cell_type": "markdown", 
            "metadata": {}
        }, 
        {
            "execution_count": 10, 
            "cell_type": "code", 
            "metadata": {}, 
            "outputs": [
                {
                    "output_type": "stream", 
                    "name": "stdout", 
                    "text": "Solving environment: done\n\n# All requested packages already installed.\n\nSolving environment: done\n\n# All requested packages already installed.\n\nLibraries imported.\n"
                }
            ], 
            "source": "import numpy as np # library to handle data in a vectorized manner\n\nimport pandas as pd # library for data analsysis\npd.set_option('display.max_columns', None)\npd.set_option('display.max_rows', None)\n\nimport json # library to handle JSON files\n\n!conda install -c conda-forge geopy --yes # comment this line again once installed\nfrom geopy.geocoders import Nominatim # convert an address into latitude and longitude values\n\nimport requests # library to handle requests\nfrom pandas.io.json import json_normalize # tranform JSON file into a pandas dataframe\n\n# Matplotlib and associated plotting modules\nimport matplotlib.cm as cm\nimport matplotlib.colors as colors\n\n# import k-means from clustering stage\nfrom sklearn.cluster import KMeans\n\n!conda install -c conda-forge folium=0.5.0 --yes # comment this line again once installed\nimport folium # map rendering library\n\nprint('Libraries imported.')"
        }
    ], 
    "metadata": {
        "kernelspec": {
            "display_name": "Python 3.6", 
            "name": "python3", 
            "language": "python"
        }, 
        "language_info": {
            "mimetype": "text/x-python", 
            "nbconvert_exporter": "python", 
            "version": "3.6.8", 
            "name": "python", 
            "file_extension": ".py", 
            "pygments_lexer": "ipython3", 
            "codemirror_mode": {
                "version": 3, 
                "name": "ipython"
            }
        }
    }, 
    "nbformat": 4
}