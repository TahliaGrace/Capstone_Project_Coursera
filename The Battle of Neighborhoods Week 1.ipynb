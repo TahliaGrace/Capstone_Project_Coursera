{
    "nbformat_minor": 1, 
    "cells": [
        {
            "source": "# The Battle of the Neighbourhoods Capstone Project", 
            "cell_type": "markdown", 
            "metadata": {
                "collapsed": true
            }
        }, 
        {
            "source": "## Introduction / Business Problem", 
            "cell_type": "markdown", 
            "metadata": {}
        }, 
        {
            "source": "### Introduction", 
            "cell_type": "markdown", 
            "metadata": {}
        }, 
        {
            "source": "Retail has always been shaped by shrewd merchants with a proclivity for taking risks and choosing the right products at the right time. This has always been considered more of an art than a science. However, with the tools to leverage consumer data, \u201cWinning decisions are increasingly driven by analytics more than instinct, experience, or merchant \u2018art\u2019. By leveraging smarter tools\u2014those beyond backward-looking, \u201chind sighting\u201d analysis\u2014retailers can increasingly make forward-looking predictions that are quickly becoming the \u201ctable stakes\u201d necessary to keep up\u201d, says [Mckinsey](https://www.mckinsey.com/industries/retail/our-insights/how-analytics-and-digital-will-drive-next-generation-retail-merchandising).\n\n\nIn a rapidly evolving world where busy bustling cities are booming with opportunity, when opening a new business, it is of paramount importance to do your homework in order to decide if the location for consideration is going to prove a profitable exercise.  As a data scientist, it is my job to assist my clients in their decision-making process. ", 
            "cell_type": "markdown", 
            "metadata": {}
        }, 
        {
            "source": "### Business Problem", 
            "cell_type": "markdown", 
            "metadata": {}
        }, 
        {
            "source": "Lucy Finnigan has approached me with an idea to open a coffee shop / book store and has provided me with two possible locations of interest. \n\nAlthough coffee has proven to be a favourite beverage of early morning go getters world-wide, there is massive competition where franchise brands are concerned. Lucy is not buying into a franchise, so location is of utmost importance to insure she becomes the forefront of her game in her new business venture to avoid her business plan folding before she\u2019s even established her brand. \n\nLucy has her heart set on Alberta, Canada. It is now my task to leverage data from various sources in order to expose a gap in the market. \n", 
            "cell_type": "markdown", 
            "metadata": {}
        }, 
        {
            "source": "## Data Section", 
            "cell_type": "markdown", 
            "metadata": {}
        }, 
        {
            "source": "[Geonames](https://www.geonames.org/postal-codes/CA/AB/alberta.html) will be used to obtain necessary data for the neighbourhoods, postal codes and geographic coordinates in Alberta. This website also offers the option of downloading the data into text files which enables one to format and import a CSV with the necessary dataset.\n\n[Foursquare](https://foursquare.com) will be used to leverage and explore venue data to target recommended locations for the prospective business venture. \n\nBy merging the data from Geonames and Foursquare we will be able to conclude where starting a non-franchised coffee shop / book store would prove most profitable. ", 
            "cell_type": "markdown", 
            "metadata": {}
        }, 
        {
            "source": "### Libraries required for to handle the data", 
            "cell_type": "markdown", 
            "metadata": {}
        }, 
        {
            "source": "import numpy as np # library to handle data in a vectorized manner\n\nimport pandas as pd # library for data analsysis\npd.set_option('display.max_columns', None)\npd.set_option('display.max_rows', None)\n\nimport json # library to handle JSON files\n\n#!conda install -c conda-forge geopy --yes # comment this line again once installed\nfrom geopy.geocoders import Nominatim # convert an address into latitude and longitude values\n\nimport requests # library to handle requests\nfrom pandas.io.json import json_normalize # tranform JSON file into a pandas dataframe\n\n# Matplotlib and associated plotting modules\nimport matplotlib.cm as cm\nimport matplotlib.colors as colors\n\n# import k-means from clustering stage\nfrom sklearn.cluster import KMeans\n\n#!conda install -c conda-forge folium=0.5.0 --yes # comment this line again once installed\nimport folium # map rendering library\n\nprint('Libraries imported.')", 
            "cell_type": "code", 
            "execution_count": 4, 
            "outputs": [
                {
                    "output_type": "stream", 
                    "name": "stdout", 
                    "text": "Libraries imported.\n"
                }
            ], 
            "metadata": {}
        }, 
        {
            "source": "#### Import the CSV file stored as an asset in our Watson Studio repository. This contains all the location information we need for Alberta. ", 
            "cell_type": "markdown", 
            "metadata": {}
        }, 
        {
            "source": "import types\nimport pandas as pd\nfrom botocore.client import Config\nimport ibm_boto3\n\ndef __iter__(self): return 0\n\n# @hidden_cell\n# The following code accesses a file in your IBM Cloud Object Storage. It includes your credentials.\n# You might want to remove those credentials before you share your notebook.\nclient_0fa096a4b4294aba946d33b7cba66123 = ibm_boto3.client(service_name='s3',\n    ibm_api_key_id='sI72FWIhaoIsNnlZrsO_mzNwPUCcWuGlTZUaR2izH6sG',\n    ibm_auth_endpoint=\"https://iam.ng.bluemix.net/oidc/token\",\n    config=Config(signature_version='oauth'),\n    endpoint_url='https://s3-api.us-geo.objectstorage.service.networklayer.com')\n\nbody = client_0fa096a4b4294aba946d33b7cba66123.get_object(Bucket='capstoneprojectcoursera-donotdelete-pr-9efd3ob21m6npd',Key='CA Geo Data.csv')['Body']\n# add missing __iter__ method, so pandas accepts body as file-like object\nif not hasattr(body, \"__iter__\"): body.__iter__ = types.MethodType( __iter__, body )\n\ndf = pd.read_csv(body, delimiter = ';')", 
            "cell_type": "code", 
            "execution_count": 27, 
            "outputs": [], 
            "metadata": {}
        }, 
        {
            "source": "alberta_data = df[df['County'].str.contains(\"Alberta\")].reset_index(drop=True)\nalberta_data.head()", 
            "cell_type": "code", 
            "execution_count": 28, 
            "outputs": [
                {
                    "output_type": "execute_result", 
                    "metadata": {}, 
                    "data": {
                        "text/html": "<div>\n<style scoped>\n    .dataframe tbody tr th:only-of-type {\n        vertical-align: middle;\n    }\n\n    .dataframe tbody tr th {\n        vertical-align: top;\n    }\n\n    .dataframe thead th {\n        text-align: right;\n    }\n</style>\n<table border=\"1\" class=\"dataframe\">\n  <thead>\n    <tr style=\"text-align: right;\">\n      <th></th>\n      <th>Country Code</th>\n      <th>Postal Code</th>\n      <th>Neighbourhood</th>\n      <th>County</th>\n      <th>County Code</th>\n      <th>Latitude</th>\n      <th>Longitude</th>\n    </tr>\n  </thead>\n  <tbody>\n    <tr>\n      <th>0</th>\n      <td>CA</td>\n      <td>T0A</td>\n      <td>Eastern Alberta (St. Paul)</td>\n      <td>Alberta</td>\n      <td>AB</td>\n      <td>54.7660</td>\n      <td>-111.7174</td>\n    </tr>\n    <tr>\n      <th>1</th>\n      <td>CA</td>\n      <td>T0B</td>\n      <td>Wainwright Region (Tofield)</td>\n      <td>Alberta</td>\n      <td>AB</td>\n      <td>53.0727</td>\n      <td>-111.5816</td>\n    </tr>\n    <tr>\n      <th>2</th>\n      <td>CA</td>\n      <td>T0C</td>\n      <td>Central Alberta (Stettler)</td>\n      <td>Alberta</td>\n      <td>AB</td>\n      <td>52.1431</td>\n      <td>-111.6941</td>\n    </tr>\n    <tr>\n      <th>3</th>\n      <td>CA</td>\n      <td>T0E</td>\n      <td>Western Alberta (Jasper)</td>\n      <td>Alberta</td>\n      <td>AB</td>\n      <td>53.6758</td>\n      <td>-115.0948</td>\n    </tr>\n    <tr>\n      <th>4</th>\n      <td>CA</td>\n      <td>T0G</td>\n      <td>North Central Alberta (Slave Lake)</td>\n      <td>Alberta</td>\n      <td>AB</td>\n      <td>55.6993</td>\n      <td>-114.4529</td>\n    </tr>\n  </tbody>\n</table>\n</div>", 
                        "text/plain": "  Country Code Postal Code                       Neighbourhood   County  \\\n0           CA         T0A          Eastern Alberta (St. Paul)  Alberta   \n1           CA         T0B         Wainwright Region (Tofield)  Alberta   \n2           CA         T0C          Central Alberta (Stettler)  Alberta   \n3           CA         T0E            Western Alberta (Jasper)  Alberta   \n4           CA         T0G  North Central Alberta (Slave Lake)  Alberta   \n\n  County Code  Latitude   Longitude  \n0          AB    54.7660  -111.7174  \n1          AB    53.0727  -111.5816  \n2          AB    52.1431  -111.6941  \n3          AB    53.6758  -115.0948  \n4          AB    55.6993  -114.4529  "
                    }, 
                    "execution_count": 28
                }
            ], 
            "metadata": {
                "scrolled": true
            }
        }, 
        {
            "source": "#### Define Foursquare Credentials and Version", 
            "cell_type": "markdown", 
            "metadata": {}
        }, 
        {
            "source": "CLIENT_ID = 'YSCTJOHAR2JB4ED34YQN01MYF5B4WOHBIJRYDHBMIGODMEQB' # your Foursquare ID\nCLIENT_SECRET = 'XDOW1SGFHMRDEL2JEQLTRPGBDF2G3ETU2IUTM4XDHDRG5ECT' # your Foursquare Secret\nVERSION = '20180605'\n\nprint('Your credentails:')\nprint('CLIENT_ID: ' + CLIENT_ID)\nprint('CLIENT_SECRET:' + CLIENT_SECRET)", 
            "cell_type": "code", 
            "execution_count": 22, 
            "outputs": [
                {
                    "output_type": "stream", 
                    "name": "stdout", 
                    "text": "Your credentails:\nCLIENT_ID: YSCTJOHAR2JB4ED34YQN01MYF5B4WOHBIJRYDHBMIGODMEQB\nCLIENT_SECRET:XDOW1SGFHMRDEL2JEQLTRPGBDF2G3ETU2IUTM4XDHDRG5ECT\n"
                }
            ], 
            "metadata": {}
        }, 
        {
            "source": "#Get the Geo coorinantes of Alberta to begin the neighbourhood analysis\naddress = 'Alberta, CA'\n\ngeolocator = Nominatim(user_agent=\"ca_explorer\")\nlocation = geolocator.geocode(address)\nlatitude = location.latitude\nlongitude = location.longitude\nprint('The geograpical coordinate of Toronto are {}, {}.'.format(latitude, longitude))", 
            "cell_type": "code", 
            "execution_count": 33, 
            "outputs": [
                {
                    "output_type": "stream", 
                    "name": "stdout", 
                    "text": "The geograpical coordinate of Toronto are 55.001251, -115.002136.\n"
                }
            ], 
            "metadata": {}
        }
    ], 
    "nbformat": 4, 
    "metadata": {
        "kernelspec": {
            "display_name": "Python 3.6", 
            "name": "python3", 
            "language": "python"
        }, 
        "language_info": {
            "mimetype": "text/x-python", 
            "nbconvert_exporter": "python", 
            "version": "3.6.8", 
            "name": "python", 
            "pygments_lexer": "ipython3", 
            "file_extension": ".py", 
            "codemirror_mode": {
                "version": 3, 
                "name": "ipython"
            }
        }
    }
}