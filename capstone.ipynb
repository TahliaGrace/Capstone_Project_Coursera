{
    "nbformat_minor": 4, 
    "cells": [
        {
            "source": "<h1 align=\"center\"><font size=\"5\">CAPSTONE PROJECT COURSERA</font></h1>", 
            "cell_type": "markdown", 
            "metadata": {}
        }, 
        {
            "source": "In this notebook I will be embarking on a journey to build out my first Capstone Project to showcase the skills I have learnt on my journey to\n\ncomplete the IBM Data Science Professional Certificate through Coursera .\n\nBelow I will begin by importing the Pandas and Numpy libraries .", 
            "cell_type": "markdown", 
            "metadata": {}
        }, 
        {
            "execution_count": 3, 
            "cell_type": "code", 
            "metadata": {}, 
            "outputs": [], 
            "source": "import numpy as np\nimport pandas as pd"
        }
    ], 
    "metadata": {
        "kernelspec": {
            "display_name": "Python 3.6", 
            "name": "python3", 
            "language": "python"
        }, 
        "language_info": {
            "mimetype": "text/x-python", 
            "nbconvert_exporter": "python", 
            "version": "3.6.8", 
            "name": "python", 
            "file_extension": ".py", 
            "pygments_lexer": "ipython3", 
            "codemirror_mode": {
                "version": 3, 
                "name": "ipython"
            }
        }
    }, 
    "nbformat": 4
}